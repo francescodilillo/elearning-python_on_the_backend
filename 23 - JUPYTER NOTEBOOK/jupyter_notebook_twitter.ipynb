{
 "cells": [
  {
   "cell_type": "markdown",
   "metadata": {},
   "source": [
    "# TWITTER APP\n",
    "\n",
    "![Twitter_Image](http://3.bp.blogspot.com/-NxouMmz2bOY/T8_ac97cesI/AAAAAAAAGg0/e3vY1_bdnbE/s320/Twitter+logo+2012.png)\n"
   ]
  },
  {
   "cell_type": "code",
   "execution_count": 1,
   "metadata": {},
   "outputs": [
    {
     "name": "stdout",
     "output_type": "stream",
     "text": [
      "Enter your name: \n",
      "Francesco\n"
     ]
    }
   ],
   "source": [
    "print(\"Enter your name: \")\n",
    "name = input()"
   ]
  },
  {
   "cell_type": "code",
   "execution_count": 3,
   "metadata": {},
   "outputs": [
    {
     "name": "stdout",
     "output_type": "stream",
     "text": [
      "Hello! Francesco\n"
     ]
    }
   ],
   "source": [
    "print(f\"Hello! {name}\")"
   ]
  },
  {
   "cell_type": "code",
   "execution_count": 4,
   "metadata": {},
   "outputs": [
    {
     "name": "stdout",
     "output_type": "stream",
     "text": [
      "Enter your tweet: \n",
      "Ciao\n",
      "Enter your tweet: \n",
      "Come\n",
      "Enter your tweet: \n",
      "Va\n",
      "Enter your tweet: \n",
      "eh?\n",
      "Enter your tweet: \n",
      "Allora?\n"
     ]
    }
   ],
   "source": [
    "tweets = [\"ID\", \"Tweet\"]\n",
    "tweetcount = 0\n",
    "while(tweetcount < 5):\n",
    "    print(\"Enter your tweet: \")\n",
    "    tweet = input()\n",
    "    tweetcount = tweetcount + 1\n",
    "    tweets.append([tweetcount, tweet])"
   ]
  },
  {
   "cell_type": "code",
   "execution_count": 5,
   "metadata": {},
   "outputs": [
    {
     "name": "stdout",
     "output_type": "stream",
     "text": [
      "ID\n",
      "Tweet\n",
      "[1, 'Ciao']\n",
      "[2, 'Come']\n",
      "[3, 'Va']\n",
      "[4, 'eh?']\n",
      "[5, 'Allora?']\n"
     ]
    }
   ],
   "source": [
    "for t in tweets:\n",
    "    print(t)"
   ]
  },
  {
   "cell_type": "code",
   "execution_count": 6,
   "metadata": {},
   "outputs": [
    {
     "name": "stdout",
     "output_type": "stream",
     "text": [
      "Collecting tabulate\n",
      "  Downloading tabulate-0.8.7-py3-none-any.whl (24 kB)\n",
      "Installing collected packages: tabulate\n",
      "Successfully installed tabulate-0.8.7\n"
     ]
    },
    {
     "name": "stderr",
     "output_type": "stream",
     "text": [
      "WARNING: You are using pip version 20.0.2; however, version 20.1.1 is available.\n",
      "You should consider upgrading via the 'c:\\users\\flillo\\appdata\\local\\programs\\python\\python37\\python.exe -m pip install --upgrade pip' command.\n"
     ]
    }
   ],
   "source": [
    "!pip install tabulate"
   ]
  },
  {
   "cell_type": "code",
   "execution_count": 7,
   "metadata": {},
   "outputs": [
    {
     "data": {
      "text/html": [
       "<table>\n",
       "<tbody>\n",
       "<tr><td>I</td><td>D      </td><td> </td><td> </td><td> </td></tr>\n",
       "<tr><td>T</td><td>w      </td><td>e</td><td>e</td><td>t</td></tr>\n",
       "<tr><td>1</td><td>Ciao   </td><td> </td><td> </td><td> </td></tr>\n",
       "<tr><td>2</td><td>Come   </td><td> </td><td> </td><td> </td></tr>\n",
       "<tr><td>3</td><td>Va     </td><td> </td><td> </td><td> </td></tr>\n",
       "<tr><td>4</td><td>eh?    </td><td> </td><td> </td><td> </td></tr>\n",
       "<tr><td>5</td><td>Allora?</td><td> </td><td> </td><td> </td></tr>\n",
       "</tbody>\n",
       "</table>"
      ],
      "text/plain": [
       "<IPython.core.display.HTML object>"
      ]
     },
     "metadata": {},
     "output_type": "display_data"
    }
   ],
   "source": [
    "from IPython.display import HTML, display\n",
    "import tabulate\n",
    "\n",
    "display(HTML(tabulate.tabulate(tweets, tablefmt='html')))"
   ]
  },
  {
   "cell_type": "code",
   "execution_count": null,
   "metadata": {},
   "outputs": [],
   "source": []
  }
 ],
 "metadata": {
  "kernelspec": {
   "display_name": "Python 3",
   "language": "python",
   "name": "python3"
  },
  "language_info": {
   "codemirror_mode": {
    "name": "ipython",
    "version": 3
   },
   "file_extension": ".py",
   "mimetype": "text/x-python",
   "name": "python",
   "nbconvert_exporter": "python",
   "pygments_lexer": "ipython3",
   "version": "3.7.4"
  }
 },
 "nbformat": 4,
 "nbformat_minor": 4
}
